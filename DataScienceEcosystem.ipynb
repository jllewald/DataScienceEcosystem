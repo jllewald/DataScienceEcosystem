{
 "cells": [
  {
   "cell_type": "markdown",
   "id": "2740d0ca",
   "metadata": {},
   "source": [
    "# Data Science Tools and Ecosystem"
   ]
  },
  {
   "cell_type": "markdown",
   "id": "8eafaadf",
   "metadata": {},
   "source": [
    "## Author\n",
    "Jennifer Lewald"
   ]
  },
  {
   "cell_type": "markdown",
   "id": "d2e0bcf3",
   "metadata": {},
   "source": [
    "In this notebook, Data Science Tools and Ecosystem are summarized."
   ]
  },
  {
   "cell_type": "markdown",
   "id": "4d12c285",
   "metadata": {},
   "source": [
    "**Objectives:**\n",
    "-  List popular languages for Data Science\n",
    "-  Commonly used libraries\n",
    "-  Tables\n",
    "-  Arthimetic expressions"
   ]
  },
  {
   "cell_type": "markdown",
   "id": "99fc3291",
   "metadata": {},
   "source": [
    "Some of the popular languages that Data Scientists use are:"
   ]
  },
  {
   "cell_type": "markdown",
   "id": "a92c001b",
   "metadata": {},
   "source": [
    "1. Python\n",
    "2. R\n",
    "3. SQL"
   ]
  },
  {
   "cell_type": "markdown",
   "id": "2116fe5b",
   "metadata": {},
   "source": [
    "Some of the commonly used libraries used by Data Scientists include:"
   ]
  },
  {
   "cell_type": "markdown",
   "id": "bfee99f0",
   "metadata": {},
   "source": [
    "1. dplyr \n",
    "2. stringr \n",
    "3. ggplot \n"
   ]
  },
  {
   "cell_type": "markdown",
   "id": "44e7931e",
   "metadata": {},
   "source": [
    "|Data Science Tools|\n",
    "|---|\n",
    "| VS Code | \n",
    "| RStudio | \n",
    "| GitHub |"
   ]
  },
  {
   "cell_type": "markdown",
   "id": "6fb7bca7",
   "metadata": {},
   "source": [
    "### Below are a few examples of evaluating arithmetic expressions in Python"
   ]
  },
  {
   "cell_type": "code",
   "execution_count": 7,
   "id": "644098e6",
   "metadata": {},
   "outputs": [
    {
     "data": {
      "text/plain": [
       "17"
      ]
     },
     "execution_count": 7,
     "metadata": {},
     "output_type": "execute_result"
    }
   ],
   "source": [
    "#This a simple arithmetic expression to mutiply then add integers\n",
    "(3*4)+5"
   ]
  },
  {
   "cell_type": "code",
   "execution_count": 8,
   "id": "70070dde",
   "metadata": {},
   "outputs": [
    {
     "data": {
      "text/plain": [
       "3.3333333333333335"
      ]
     },
     "execution_count": 8,
     "metadata": {},
     "output_type": "execute_result"
    }
   ],
   "source": [
    "#This will convert 200 minutes to hours by diving by 60\n",
    "200/60"
   ]
  },
  {
   "cell_type": "code",
   "execution_count": null,
   "id": "569efd28",
   "metadata": {},
   "outputs": [],
   "source": []
  }
 ],
 "metadata": {
  "kernelspec": {
   "display_name": "Python 3 (ipykernel)",
   "language": "python",
   "name": "python3"
  },
  "language_info": {
   "codemirror_mode": {
    "name": "ipython",
    "version": 3
   },
   "file_extension": ".py",
   "mimetype": "text/x-python",
   "name": "python",
   "nbconvert_exporter": "python",
   "pygments_lexer": "ipython3",
   "version": "3.10.9"
  }
 },
 "nbformat": 4,
 "nbformat_minor": 5
}
